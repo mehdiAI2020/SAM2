{
 "cells": [
  {
   "metadata": {
    "ExecuteTime": {
     "end_time": "2024-09-15T16:53:28.544885Z",
     "start_time": "2024-09-15T16:53:28.533766Z"
    }
   },
   "cell_type": "code",
   "source": [
    "import pandas as pd\n",
    "\n",
    "# Create a list of aspects and companies\n",
    "aspects = [\n",
    "    'protect the soil from erosion and degradation', 'efficient use of water resources in the production process', \n",
    "    'use of energy-efficient equipment in the production process', 'use of natural detergents for equipment', \n",
    "    'use of environmentally friendly wine packaging', 'reducing the use of plastic packaging in production',\n",
    "    'to reduce winemaking waste', 'to reduce the use of animal additives in wine production',\n",
    "    'to reduce SO2 emissions', 'reducing the impact of chemical sprays'\n",
    "]\n",
    "\n",
    "# Create the initial empty data with companies as columns\n",
    "data = {\n",
    "    'Aspect': aspects,\n",
    "    'Mattia Rivetti': [5, 5, 3, 2, 4, 3, 0, 2, 4, 5],  # Sample data based on the color codes you've mentioned\n",
    "    'I Vignaioli di S Stefano ssa': [0, 4, 3, 0, 3, 4, 2, 3, 3, 4],\n",
    "    'AZ. Paolo Berutti': [0, 5, 3, 2, 4, 0, 1, 0, 0, 3]\n",
    "}\n",
    "\n",
    "# Create the DataFrame\n",
    "df = pd.DataFrame(data)\n",
    "\n",
    "# Save to an Excel file\n",
    "output_path = \"C:/Users/39327/Downloads/Sofi/winery_technology_scores.xlsx\"\n",
    "#if there is no directory make it\n",
    "if not os.path.exists(output_path):\n",
    "    os.makedirs(output_path)\n",
    "    \n",
    "    \n",
    "#df.to_excel(output_path, index=False)\n",
    "# \n",
    "df.head()\n"
   ],
   "id": "d446f7a642ac2c6f",
   "outputs": [
    {
     "data": {
      "text/plain": [
       "                                              Aspect  Mattia Rivetti  \\\n",
       "0      protect the soil from erosion and degradation               5   \n",
       "1  efficient use of water resources in the produc...               5   \n",
       "2  use of energy-efficient equipment in the produ...               3   \n",
       "3            use of natural detergents for equipment               2   \n",
       "4     use of environmentally friendly wine packaging               4   \n",
       "\n",
       "   I Vignaioli di S Stefano ssa  AZ. Paolo Berutti  \n",
       "0                             0                  0  \n",
       "1                             4                  5  \n",
       "2                             3                  3  \n",
       "3                             0                  2  \n",
       "4                             3                  4  "
      ],
      "text/html": [
       "<div>\n",
       "<style scoped>\n",
       "    .dataframe tbody tr th:only-of-type {\n",
       "        vertical-align: middle;\n",
       "    }\n",
       "\n",
       "    .dataframe tbody tr th {\n",
       "        vertical-align: top;\n",
       "    }\n",
       "\n",
       "    .dataframe thead th {\n",
       "        text-align: right;\n",
       "    }\n",
       "</style>\n",
       "<table border=\"1\" class=\"dataframe\">\n",
       "  <thead>\n",
       "    <tr style=\"text-align: right;\">\n",
       "      <th></th>\n",
       "      <th>Aspect</th>\n",
       "      <th>Mattia Rivetti</th>\n",
       "      <th>I Vignaioli di S Stefano ssa</th>\n",
       "      <th>AZ. Paolo Berutti</th>\n",
       "    </tr>\n",
       "  </thead>\n",
       "  <tbody>\n",
       "    <tr>\n",
       "      <th>0</th>\n",
       "      <td>protect the soil from erosion and degradation</td>\n",
       "      <td>5</td>\n",
       "      <td>0</td>\n",
       "      <td>0</td>\n",
       "    </tr>\n",
       "    <tr>\n",
       "      <th>1</th>\n",
       "      <td>efficient use of water resources in the produc...</td>\n",
       "      <td>5</td>\n",
       "      <td>4</td>\n",
       "      <td>5</td>\n",
       "    </tr>\n",
       "    <tr>\n",
       "      <th>2</th>\n",
       "      <td>use of energy-efficient equipment in the produ...</td>\n",
       "      <td>3</td>\n",
       "      <td>3</td>\n",
       "      <td>3</td>\n",
       "    </tr>\n",
       "    <tr>\n",
       "      <th>3</th>\n",
       "      <td>use of natural detergents for equipment</td>\n",
       "      <td>2</td>\n",
       "      <td>0</td>\n",
       "      <td>2</td>\n",
       "    </tr>\n",
       "    <tr>\n",
       "      <th>4</th>\n",
       "      <td>use of environmentally friendly wine packaging</td>\n",
       "      <td>4</td>\n",
       "      <td>3</td>\n",
       "      <td>4</td>\n",
       "    </tr>\n",
       "  </tbody>\n",
       "</table>\n",
       "</div>"
      ]
     },
     "execution_count": 11,
     "metadata": {},
     "output_type": "execute_result"
    }
   ],
   "execution_count": 11
  },
  {
   "metadata": {
    "ExecuteTime": {
     "end_time": "2024-09-15T16:56:14.357111Z",
     "start_time": "2024-09-15T16:56:14.345113Z"
    }
   },
   "cell_type": "code",
   "source": "df.to_excel('winery_technology_scores.xlsx', index=False)",
   "id": "d94ea7becbd0daf8",
   "outputs": [],
   "execution_count": 13
  },
  {
   "metadata": {
    "ExecuteTime": {
     "end_time": "2024-09-15T16:46:47.839996Z",
     "start_time": "2024-09-15T16:46:41.638318Z"
    }
   },
   "cell_type": "code",
   "source": "!pip install openpyxl",
   "id": "d693c027c95e51b6",
   "outputs": [
    {
     "name": "stdout",
     "output_type": "stream",
     "text": [
      "Collecting openpyxl\n",
      "  Downloading openpyxl-3.1.5-py2.py3-none-any.whl.metadata (2.5 kB)\n",
      "Collecting et-xmlfile (from openpyxl)\n",
      "  Downloading et_xmlfile-1.1.0-py3-none-any.whl.metadata (1.8 kB)\n",
      "Downloading openpyxl-3.1.5-py2.py3-none-any.whl (250 kB)\n",
      "Downloading et_xmlfile-1.1.0-py3-none-any.whl (4.7 kB)\n",
      "Installing collected packages: et-xmlfile, openpyxl\n",
      "Successfully installed et-xmlfile-1.1.0 openpyxl-3.1.5\n"
     ]
    }
   ],
   "execution_count": 3
  },
  {
   "cell_type": "code",
   "id": "initial_id",
   "metadata": {
    "collapsed": true,
    "ExecuteTime": {
     "end_time": "2024-09-15T16:45:16.852022Z",
     "start_time": "2024-09-15T16:45:16.154792Z"
    }
   },
   "source": [
    "import os\n",
    "from PIL import Image\n",
    "import random\n",
    "\n",
    "# Path to Cat and Dog Dataset\n",
    "data_dir = r\"C:/Users/39327/Downloads/archive (1)/training_set/training_set/\"\n",
    "categories = ['cats', 'dogs']  # cat = 1, dog = 0\n",
    "\n",
    "# Create list of all data with labels (1 for Cat, 0 for Dog)\n",
    "data = []\n",
    "for category in categories:\n",
    "    label = 1 if category == 'cat' else 0\n",
    "    category_dir = os.path.join(data_dir, category)\n",
    "    for filename in os.listdir(category_dir):\n",
    "        img_path = os.path.join(category_dir, filename)\n",
    "        data.append({\"image\": img_path, \"label\": label})\n",
    "\n",
    "# Shuffle the data\n",
    "random.shuffle(data)\n",
    "\n",
    "# Read single image and label\n",
    "def read_single(data):\n",
    "    ent = random.choice(data)  # Choose random entry\n",
    "    img = Image.open(ent[\"image\"]).convert(\"RGB\")\n",
    "    img = img.resize((1024, 1024))  # Resize to 1024x1024\n",
    "    img = np.array(img)\n",
    "    label = ent[\"label\"]\n",
    "    return img, label\n",
    "\n",
    "# Read a batch of images and labels\n",
    "def read_batch(data, batch_size=4):\n",
    "    images = []\n",
    "    labels = []\n",
    "    for _ in range(batch_size):\n",
    "        img, label = read_single(data)\n",
    "        images.append(img)\n",
    "        labels.append(label)\n",
    "    return images, np.array(labels)\n"
   ],
   "outputs": [],
   "execution_count": 1
  },
  {
   "metadata": {},
   "cell_type": "code",
   "outputs": [],
   "execution_count": null,
   "source": [
    "# Modify predictor to output binary class (1 for Cat, 0 for Dog)\n",
    "for itr in range(100000):\n",
    "    with torch.cuda.amp.autocast():  # Cast to mixed precision\n",
    "        images, labels = read_batch(data, batch_size=4)  # Load data batch\n",
    "        if len(labels) == 0: continue  # Ignore empty batches\n",
    "\n",
    "        predictor.set_image_batch(images)  # Apply SAM image encoder to the image\n",
    "        \n",
    "        # Get image embeddings\n",
    "        image_embeddings = predictor.model.image_encoder(torch.tensor(images).cuda())\n",
    "        \n",
    "        # Forward pass through the SAM mask decoder (adapted for classification)\n",
    "        logits = predictor.model.sam_mask_decoder(image_embeddings=image_embeddings)\n",
    "\n",
    "        # Classification output (binary logits, one per image)\n",
    "        preds = torch.sigmoid(logits[:, 0])  # Apply sigmoid to get probabilities for binary classification\n",
    "        \n",
    "        # Ground truth labels\n",
    "        gt_labels = torch.tensor(labels, dtype=torch.float32).cuda()\n",
    "\n",
    "        # Binary Cross-Entropy Loss for classification\n",
    "        bce_loss = torch.nn.functional.binary_cross_entropy(preds, gt_labels)\n",
    "\n",
    "        # Backpropagation\n",
    "        predictor.model.zero_grad()  # Empty gradients\n",
    "        scaler.scale(bce_loss).backward()  # Backpropagate\n",
    "        scaler.step(optimizer)\n",
    "        scaler.update()  # Update model\n",
    "\n",
    "        if itr % 1000 == 0:\n",
    "            torch.save(predictor.model.state_dict(), \"model_cat_dog.torch\")  # Save model\n",
    "\n",
    "        # Print results\n",
    "        mean_accuracy = (preds.round() == gt_labels).float().mean().item()\n",
    "        print(f\"Iteration {itr}: Accuracy = {mean_accuracy}\")\n"
   ],
   "id": "961f53a28eaec721"
  }
 ],
 "metadata": {
  "kernelspec": {
   "display_name": "Python 3",
   "language": "python",
   "name": "python3"
  },
  "language_info": {
   "codemirror_mode": {
    "name": "ipython",
    "version": 2
   },
   "file_extension": ".py",
   "mimetype": "text/x-python",
   "name": "python",
   "nbconvert_exporter": "python",
   "pygments_lexer": "ipython2",
   "version": "2.7.6"
  }
 },
 "nbformat": 4,
 "nbformat_minor": 5
}
